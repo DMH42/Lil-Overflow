{
 "cells": [
  {
   "cell_type": "code",
   "execution_count": 1,
   "metadata": {},
   "outputs": [
    {
     "output_type": "execute_result",
     "data": {
      "text/plain": "True"
     },
     "metadata": {},
     "execution_count": 1
    }
   ],
   "source": [
    "import lyricsgenius\n",
    "import os\n",
    "from dotenv import load_dotenv\n",
    "load_dotenv()"
   ]
  },
  {
   "cell_type": "markdown",
   "metadata": {},
   "source": [
    "## Fetch Data"
   ]
  },
  {
   "cell_type": "code",
   "execution_count": null,
   "metadata": {},
   "outputs": [],
   "source": [
    "os.chdir(\"./data/raw/\")"
   ]
  },
  {
   "cell_type": "code",
   "execution_count": null,
   "metadata": {},
   "outputs": [],
   "source": [
    "offset = 116\n",
    "clientID = os.getenv(\"clientID\")\n",
    "clientAccessToken = os.getenv(\"clientAccessToken\")\n",
    "clientSecret = os.getenv(\"clientSecret\")"
   ]
  },
  {
   "cell_type": "code",
   "execution_count": null,
   "metadata": {},
   "outputs": [],
   "source": [
    "def fetchAndSave(artist, genius):\n",
    "    print(\"search for \" + artist)\n",
    "    artist = genius.search_artist(artist, max_songs=500, per_page= 50, sort=\"popularity\", get_full_info= False)\n",
    "    print(\"saving lyrics\")\n",
    "    artist.save_lyrics()\n"
   ]
  },
  {
   "cell_type": "code",
   "execution_count": null,
   "metadata": {
    "tags": []
   },
   "outputs": [],
   "source": [
    "with open(\"../../topRappers.txt\", \"r\") as fp:\n",
    "    genius = lyricsgenius.Genius(client_access_token = clientAccessToken, verbose=False, timeout = 15)\n",
    "    genius.excluded_terms = [\"(Remix)\", \"(Live)\"]\n",
    "    count = 0\n",
    "    for i, artist in enumerate(fp):\n",
    "        # print(artist)\n",
    "        # print (i)\n",
    "        if i >=  offset :\n",
    "            try:\n",
    "                fetchAndSave(artist, genius)\n",
    "            except TimeoutError:\n",
    "                continue"
   ]
  },
  {
   "cell_type": "markdown",
   "metadata": {},
   "source": [
    "## Clean Data"
   ]
  },
  {
   "cell_type": "code",
   "execution_count": 19,
   "metadata": {},
   "outputs": [],
   "source": [
    "import json\n",
    "files = os.listdir(\"./data/raw/\")"
   ]
  },
  {
   "cell_type": "code",
   "execution_count": 21,
   "metadata": {},
   "outputs": [],
   "source": [
    "ignorelist = [\"Lyrics will be available\" , \"Cover Art\", \"Lyrics for this song have yet to be released\", \"Lyrics will be put on this page once the song is released\",\n",
    "\"Chance the Rapper Logo\", \"Someone add the lyrics\", ]"
   ]
  },
  {
   "cell_type": "code",
   "execution_count": 22,
   "metadata": {
    "tags": []
   },
   "outputs": [],
   "source": [
    "for filename in files:\n",
    "    # temp = \"\"\n",
    "    # filename = \"Lyrics_Dax.json\"\n",
    "    with open(f'./data/raw/{filename}') as f:\n",
    "        data = json.load(f)\n",
    "        song_obj = {}\n",
    "        artist = data[\"name\"]\n",
    "        song_obj[\"artist\"] = artist\n",
    "\n",
    "        song_obj[\"songs\"] = []\n",
    "        for song in data['songs']:\n",
    "            lyrics = song['lyrics']\n",
    "            if \"My Krazy Life Tour\" in song[\"title\"]:\n",
    "                continue\n",
    "            if any(ignore in lyrics for ignore in ignorelist):\n",
    "                continue\n",
    "            if len(lyrics)<20:\n",
    "                if \"Soon\" in lyrics:\n",
    "                    continue\n",
    "            # lyrics.decode(\"utf-8\")\n",
    "            # print(lyrics)\n",
    "            # temp = lyrics\n",
    "            song_obj[\"songs\"].append(song['lyrics'])\n",
    "        with open(f'./data/cleaned/{artist}.json', 'w', encoding='utf-8') as outfile:\n",
    "            json.dump(song_obj, outfile)"
   ]
  },
  {
   "cell_type": "code",
   "execution_count": 30,
   "metadata": {
    "tags": []
   },
   "outputs": [
    {
     "output_type": "stream",
     "name": "stdout",
     "text": "1043\n"
    }
   ],
   "source": [
    "import re\n",
    "from transformers import GPT2TokenizerFast\n",
    "tokenizer = GPT2TokenizerFast.from_pretrained(\"gpt2\")\n",
    "import math\n",
    "\n",
    "files = os.listdir(\"./data/cleaned/\")\n",
    "chorusCount = 0\n",
    "verseCount = 0\n",
    "songCount = 0\n",
    "# chorusRE = re.compile('\\[.*chorus.*\\]|(.*chorus.*)|Chorus.*:|{.*chorus.*}|\\[.*interlude\\]|\\[Chorus\\]|\\[Intro\\]|\\[hook.*\\]|\\[outro.*\\]|\\[...*\\]', re.IGNORECASE)\n",
    "chorusRE = re.compile('(.*chorus.*)|Chorus.*:|{.*chorus.*}|\\[...*\\]', re.IGNORECASE)\n",
    "\n",
    "verseRE = re.compile(\"\\[.*verse.*\\]|(.*verse.*)|verse*:|{.*verse.*}\", re.IGNORECASE)\n",
    "# print(\"reset\")\n",
    "longerCount = 0\n",
    "for filename in files:\n",
    "    with open(f'./data/cleaned/{filename}', encoding = \"utf-8\") as f:\n",
    "        data = json.load(f)\n",
    "        songs = data[\"songs\"]\n",
    "        for song in songs:\n",
    "            encoding = tokenizer.encode(song)\n",
    "            if len(encoding) > 1023:\n",
    "                splits = song.split(\"\\n\\n\")\n",
    "                middle = math.floor((len(splits) - 1) / 2)\n",
    "                first = \"\"\n",
    "                second = \"\"\n",
    "                for i in range (middle):\n",
    "                    first += splits[i] + \"\\n\\n\"\n",
    "                for i in range(middle, len(splits)):\n",
    "                    second += splits[i] + \"\\n\\n\"\n",
    "                half1 = tokenizer.encode(first)\n",
    "                half2 = tokenizer.encode(second)\n",
    "\n",
    "                if len(half1) > 1023 or len(half2) > 1023:\n",
    "                    longerCount +=1\n",
    "\n",
    "                \n",
    "\n",
    "            # # print(song)\n",
    "            # choir = chorusRE.findall(song)\n",
    "            # verses = verseRE.findall(song)\n",
    "\n",
    "            # if len(choir) > 0 and len(verses) >0:\n",
    "            #     chorusCount += 1\n",
    "            #     verseCount +=1\n",
    "            #     # chorus += len(choir)\n",
    "            # elif len(verses) >0:\n",
    "            #     verseCount +=1\n",
    "            # elif len(choir)>0:\n",
    "            #     chorusCount += 1\n",
    "            # else:\n",
    "            #     if len(song) < 500:\n",
    "            #         print(song)\n",
    "            #     # print(len(song))\n",
    "            #     break\n",
    "            # songCount +=1\n",
    "# print(chorusCount)\n",
    "# print(songCount)\n",
    "# print(verseCount)\n",
    "\n",
    "print(longerCount)"
   ]
  },
  {
   "cell_type": "code",
   "execution_count": null,
   "metadata": {},
   "outputs": [],
   "source": []
  }
 ],
 "metadata": {
  "kernelspec": {
   "display_name": "Python 3",
   "language": "python",
   "name": "python3"
  },
  "language_info": {
   "codemirror_mode": {
    "name": "ipython",
    "version": 3
   },
   "file_extension": ".py",
   "mimetype": "text/x-python",
   "name": "python",
   "nbconvert_exporter": "python",
   "pygments_lexer": "ipython3",
   "version": "3.7.9"
  }
 },
 "nbformat": 4,
 "nbformat_minor": 4
}