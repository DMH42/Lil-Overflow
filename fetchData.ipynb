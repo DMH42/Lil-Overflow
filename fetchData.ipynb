{
 "cells": [
  {
   "cell_type": "code",
   "execution_count": null,
   "metadata": {},
   "outputs": [],
   "source": [
    "import lyricsgenius\n",
    "import os\n",
    "from dotenv import load_dotenv\n",
    "load_dotenv()"
   ]
  },
  {
   "cell_type": "markdown",
   "metadata": {},
   "source": [
    "## Fetch Data"
   ]
  },
  {
   "cell_type": "code",
   "execution_count": null,
   "metadata": {},
   "outputs": [],
   "source": [
    "os.chdir(\"./data/raw/\")"
   ]
  },
  {
   "cell_type": "code",
   "execution_count": null,
   "metadata": {},
   "outputs": [],
   "source": [
    "offset = 116\n",
    "clientID = os.getenv(\"clientID\")\n",
    "clientAccessToken = os.getenv(\"clientAccessToken\")\n",
    "clientSecret = os.getenv(\"clientSecret\")"
   ]
  },
  {
   "cell_type": "code",
   "execution_count": null,
   "metadata": {},
   "outputs": [],
   "source": [
    "def fetchAndSave(artist, genius):\n",
    "    print(\"search for \" + artist)\n",
    "    artist = genius.search_artist(artist, max_songs=500, per_page= 50, sort=\"popularity\", get_full_info= False)\n",
    "    print(\"saving lyrics\")\n",
    "    artist.save_lyrics()\n"
   ]
  },
  {
   "cell_type": "code",
   "execution_count": null,
   "metadata": {
    "tags": []
   },
   "outputs": [],
   "source": [
    "with open(\"../../topRappers.txt\", \"r\") as fp:\n",
    "    genius = lyricsgenius.Genius(client_access_token = clientAccessToken, verbose=False, timeout = 15)\n",
    "    genius.excluded_terms = [\"(Remix)\", \"(Live)\"]\n",
    "    count = 0\n",
    "    for i, artist in enumerate(fp):\n",
    "        # print(artist)\n",
    "        # print (i)\n",
    "        if i >=  offset :\n",
    "            try:\n",
    "                fetchAndSave(artist, genius)\n",
    "            except TimeoutError:\n",
    "                continue"
   ]
  },
  {
   "cell_type": "markdown",
   "metadata": {},
   "source": [
    "## Clean Data"
   ]
  },
  {
   "cell_type": "code",
   "execution_count": 3,
   "metadata": {},
   "outputs": [],
   "source": [
    "import json\n",
    "files = os.listdir(\"./data/raw/\")"
   ]
  },
  {
   "cell_type": "code",
   "execution_count": null,
   "metadata": {},
   "outputs": [],
   "source": [
    "ignorelist = [\"Lyrics will be available\" , \"Cover Art\", \"Lyrics for this song have yet to be released\", \"Lyrics will be put on this page once the song is released\",\n",
    "\"Chance the Rapper Logo\", \"Someone add the lyrics\", ]"
   ]
  },
  {
   "cell_type": "code",
   "execution_count": null,
   "metadata": {
    "tags": []
   },
   "outputs": [],
   "source": [
    "for filename in files:\n",
    "    # temp = \"\"\n",
    "    # filename = \"Lyrics_Dax.json\"\n",
    "    with open(f'./data/raw/{filename}') as f:\n",
    "        data = json.load(f)\n",
    "        song_obj = {}\n",
    "        artist = data[\"name\"]\n",
    "        song_obj[\"artist\"] = artist\n",
    "\n",
    "        song_obj[\"songs\"] = []\n",
    "        for song in data['songs']:\n",
    "            lyrics = song['lyrics']\n",
    "            if \"My Krazy Life Tour\" in song[\"title\"]:\n",
    "                continue\n",
    "            if any(ignore in lyrics for ignore in ignorelist):\n",
    "                continue\n",
    "            if len(lyrics)<20:\n",
    "                if \"Soon\" in lyrics:\n",
    "                    continue\n",
    "            # lyrics.decode(\"utf-8\")\n",
    "            # print(lyrics)\n",
    "            # temp = lyrics\n",
    "            song_obj[\"songs\"].append(song['lyrics'])\n",
    "        with open(f'./data/cleaned/{artist}.json', 'w', encoding='utf-8') as outfile:\n",
    "            json.dump(song_obj, outfile)"
   ]
  },
  {
   "cell_type": "code",
   "execution_count": 5,
   "metadata": {},
   "outputs": [],
   "source": [
    "def encodeString(string, tokenizer, maxSize):\n",
    "    encoding = tokenizer.encode(string)\n",
    "    # print(\"*******************************\")\n",
    "    # print(string)\n",
    "    if len(encoding) > maxSize:\n",
    "        splits = string.split(\"\\n\\n\")\n",
    "        if len(splits) ==1:\n",
    "            # return [tokenizer.encode(string, max_length=1023, truncation='only_first')]\n",
    "            return[string]\n",
    "        \n",
    "        if len(splits) == 2:\n",
    "            res = []\n",
    "            # res.append(tokenizer.encode(splits[0], max_length=1023, truncation='only_first'))\n",
    "            # res.append(tokenizer.encode(splits[1], max_length=1023, truncation='only_first'))\n",
    "            res.append(splits[0])\n",
    "            res.append(splits[1])\n",
    "            return res\n",
    "            # print (splits)\n",
    "        # print(len(splits))\n",
    "        # for split in splits:\n",
    "        #     print(len(split))\n",
    "        middle = math.floor((len(splits) - 1) / 2)\n",
    "        # print(middle)\n",
    "        first = \"\"\n",
    "        second = \"\"\n",
    "        for i in range (middle):\n",
    "            if i<middle-1:\n",
    "                first += splits[i] + \"\\n\\n\"\n",
    "            else:\n",
    "                first += splits[i]\n",
    "\n",
    "        for i in range(middle, len(splits)):\n",
    "            if i< len(splits)-1:\n",
    "                second += splits[i] + \"\\n\\n\"\n",
    "            else:\n",
    "                second+= splits[i]\n",
    "        res = []\n",
    "\n",
    "        res1 = encodeString(first, tokenizer, maxSize)\n",
    "        res2 = encodeString(second, tokenizer, maxSize)\n",
    "        for enc in res1:\n",
    "            res.append(enc)\n",
    "        for enc in res2:\n",
    "            res.append(enc)\n",
    "        return res\n",
    "    else:\n",
    "        return [string]"
   ]
  },
  {
   "cell_type": "code",
   "execution_count": 6,
   "metadata": {
    "tags": []
   },
   "outputs": [
    {
     "output_type": "stream",
     "name": "stdout",
     "text": "0\n"
    }
   ],
   "source": [
    "import re\n",
    "from transformers import GPT2TokenizerFast\n",
    "tokenizer = GPT2TokenizerFast.from_pretrained(\"gpt2\")\n",
    "import math\n",
    "\n",
    "files = os.listdir(\"./data/cleaned/\")\n",
    "chorusCount = 0\n",
    "verseCount = 0\n",
    "songCount = 0\n",
    "# chorusRE = re.compile('\\[.*chorus.*\\]|(.*chorus.*)|Chorus.*:|{.*chorus.*}|\\[.*interlude\\]|\\[Chorus\\]|\\[Intro\\]|\\[hook.*\\]|\\[outro.*\\]|\\[...*\\]', re.IGNORECASE)\n",
    "chorusRE = re.compile('(.*chorus.*)|Chorus.*:|{.*chorus.*}|\\[...*\\]', re.IGNORECASE)\n",
    "\n",
    "verseRE = re.compile(\"\\[.*verse.*\\]|(.*verse.*)|verse*:|{.*verse.*}\", re.IGNORECASE)\n",
    "# print(\"reset\")\n",
    "longerCount = 0\n",
    "for filename in files:\n",
    "    with open(f'./data/cleaned/{filename}', encoding = \"utf-8\") as f:\n",
    "        data = json.load(f)\n",
    "        artist = data[\"artist\"]\n",
    "        songs = data[\"songs\"]\n",
    "        encObj = {}\n",
    "        encObj[\"artist\"] = artist\n",
    "        encObj[\"encodings\"] = []\n",
    "        for song in songs:\n",
    "            # if \"Southside, Southside on the, Southside on the,\" in song:\n",
    "            #     print (data[\"artist\"])\n",
    "            # print(song[:100])\n",
    "            encodings = encodeString(song, tokenizer, 1023)\n",
    "            for enc in encodings:\n",
    "                obj = {}\n",
    "                obj[\"song\"] = enc\n",
    "                encObj[\"encodings\"].append(obj)\n",
    "            # print(len(encodings))\n",
    "            # for enc in encodings:\n",
    "            #     print (len)\n",
    "\n",
    "        with open(f'./data/encodings/{artist}.json', 'w', encoding='utf-8') as outfile:\n",
    "            json.dump(encObj, outfile)\n",
    "\n",
    "            # # print(song)\n",
    "            # choir = chorusRE.findall(song)\n",
    "            # verses = verseRE.findall(song)\n",
    "\n",
    "            # if len(choir) > 0 and len(verses) >0:\n",
    "            #     chorusCount += 1\n",
    "            #     verseCount +=1\n",
    "            #     # chorus += len(choir)\n",
    "            # elif len(verses) >0:\n",
    "            #     verseCount +=1\n",
    "            # elif len(choir)>0:\n",
    "            #     chorusCount += 1\n",
    "            # else:\n",
    "            #     if len(song) < 500:\n",
    "            #         print(song)\n",
    "            #     # print(len(song))\n",
    "            #     break\n",
    "            # songCount +=1\n",
    "        \n",
    "# print(chorusCount)\n",
    "# print(songCount)\n",
    "# print(verseCount)\n",
    "\n",
    "print(longerCount)"
   ]
  },
  {
   "cell_type": "code",
   "execution_count": null,
   "metadata": {},
   "outputs": [],
   "source": [
    "test =      \"[Intro]\\nSouthside, Southside on the, Southside on the, hey\\nMetro Boomin want some more, nigga\\n\\n[Verse]\\nGoyard duffle, yeah yeah\\nGot that Draco in it, yeah yeah\\nWhip a chicken, yeah yeah\\nTryna break the pot, yeah yeah\\nAnd I got that Glock, yeah yeah\\nI got thirty shots, yeah yeah\\nGot your baby mama, yeah yeah\\nShe bent over nigga, yeah yeah\\nYoung Savage trappin', yeah yeah\\nAnd I'm fuckin' rappin', yeah yeah\\nI make lots of money, yeah yeah\\nAnd I throw it, throw it, yeah yeah\\nAyy lil bitch you tryna blow it, yeah\\nWoah, chopper like a lawnmower, yeah\\nWoah, got that motherfuckin' dagger on me\\nWoah, stab a nigga and his lil homie, woah\\nAnd I'm ballin' like Nowitzki, woah\\nI get head like Lewinsky\\nPolice tryna fingerprint me, woah\\nI'm runnin' out that motherfucker, nigga, woah\\nGet money like a motherfucker, nigga\\nBags in, nigga gas in\\nCash out, nigga cash in\\nI'm robbin', ski maskin'\\nYou niggas know that I'm 'bout action\\nFishtail with the traction\\nFuck a fistfight, nigga I was blasting\\nAir that motherfucker out, we was smashin'\\nGot them VVS's on me, nigga glass\\nFuck school nigga, always skipped class\\nFuck the other side, throwin' red rags\\nSlaughter Gang, PDE gon' do you bad nigga\\nRunnin' through this cash, through this cash nigga\\nAnd my bitch bad, bitch bad nigga\\nYeah, and I got a bag, got a bag nigga\\nWhy these niggas mad, why they sad nigga\\n'Cause I'm poppin' ho, yeah I'm poppin' ho\\nGot your main bitch, pussy poppin' ho\\nWe don't want that pussy, we just want that toppy, ho\\nAnd I don't want it if the shit ain't sloppy ho\\nYeah, gang gang, nigga gang gang\\nAyy, niggas snitching in the chain gang, ayy\\nThey must not know they go in the chain gang, ayy\\nStab 'em up, nigga stab 'em up\\nI'm in a Bentley truck, you in a Acura\\nYou niggas actin' like I ain't got racks or somethin'\\nYou niggas actin' like I ain't in the trap or somethin'\\nFuck you niggas thought, Savage was just rappin' huh\\nHey, your main bitch, she gon' back it up\\n21, that two-two-three gon' make you back it up\\n21, that show money I just stack it up\\n21, I'm real gangster, you just acting tough, woah\\nNiggas tryna put the feds on me, woah\\nMy young niggas droppin' shells on 'em, woah\\nI know they scared now, scared now\\nNiggas broke, they can't even pay they bail now\\nAyy, I get a brick and I bust it down, nigga\\nPut it in the pyrex and drown it, nigga\\nWater whip the dope, water whip it\\nHo, water whip your ho, water whip 'em, yeah\\nThem VVS's got her hypnotized, yeah\\nI used to walk around with two nines, woah\\nThen I hit a nigga for two nines, 21\\nThat's a half a brick lil nigga, 21\\nYou a fuckin' shrimp lil nigga, 21\\nI got somethin' for that lip lil nigga, 21\\nHave you with a limp lil nigga, 21\\nCut you up, no temp lil nigga, yeah\\nI get money 'cause I'm rich nigga, yeah\\nI might fuck all on your bitch nigga, yeah\\nGot a drank in in the vip nigga, yeah\\nShe want a gangster, not a wimp nigga, yeah\\nBurberry fur on me, shit, woah\\nThirty, Steph Curry on me, shit, woah\\nEating chicken curry in this bitch, woah\\nGood food, nigga good food, 21\\nI'm a gangster, you a good dude, 21\\nI won't text her 'til she send nudes, 21\\nShe call my phone when the rent due, 21\\nI ain't got a dime for your stankin' ass, 21\\nWash your behind with your stankin' ass, bitch\\nAnd your nigga broke, down bad, bitch\\nAll my niggas havin' fuckin' bags, bitch\\nRich niggas, rich niggas, rich, 21\\nHit nigga, hit nigga, hit, 21\\nThat stick nigga, stick nigga, stick, 21\\nBricks nigga, licks nigga, hits, 21\\nSlaughter Gang, PDE the shit, 21\\nGot the rap game on lock fast, 21\\nGot the block game on lock fast, 21\\nI got that Glock aim on lock fast, 21\\nI drop cop and send shots fast, 21\\nYou only gangster when the gangsters gone, 21\\nYou just a pussy with a camera phone, 21\\nYou just a bitch with an Instagram, 21\\nNo trigger finger, I got a trigger hand, 21\\nAll of 'em like to shoot nigga, 21\\nAll of 'em like boot nigga, 21\\nAll of 'em in your boot nigga, 21\\nFinger holes, nigga finger holes, 21\\nYou just a pussy with some finger rolls, 21\\nI can't respect a nigga with cornrows, 21\\nBroke nigga with your brother's clothes, 21\\nBroke nigga fuckin' your brother's hoes, 21\\nGet your own nigga, get your own, 21\\nYou ain't grown, nigga you ain't grown, 21\\nYour money brown and my money long, 21\\nMy blunt green and my gas strong, 21\\nYour bitch bad and I got her number, 21\\nAll her friends wanna throw a slumber, 21\\nI might fuck all on that bitch mama, 21\\nI might take that lil bitch out that Honda, 21\\nPut that lil bitch in a Benz, yeah, 21\\nI wish that bitch had a twin, yeah, 21\\nShe want all my friends, yeah, 21\\nMan that bitch got on some Timbs, yeah, 21\\nBut I put that bitch in Gucci Gucci, 21\\nMan I fuck that bitch like she Karruche, 21\\nI might lick that, do the oochie coochie, 21\\nGot a brown one like a nigga Boosie, 21\\nNigga catch me all up in Bruce's, 21\\nAnd you know I pull up with that uzi, 21\\nI'ma shoot a nigga, make the news and, 21\\nNiggas umm, niggas niggas losin', 21\\nYeah yeah, nigga yeah yeah, 21\\nServe a nigga with no scale scale, 21\\nCome and help me wrap this bale, bale, 21\\nFuck 12, no seatbelt, 21\\nFuck 12, I don't need help, 21\\n12 gauge, nigga that's my help, 21\"\n"
   ]
  },
  {
   "cell_type": "code",
   "execution_count": null,
   "metadata": {},
   "outputs": [],
   "source": [
    "len(tokenizer.tokenize(test))"
   ]
  },
  {
   "cell_type": "code",
   "execution_count": null,
   "metadata": {
    "tags": []
   },
   "outputs": [],
   "source": [
    "len(encodeString(test, tokenizer, 1023)[1])"
   ]
  },
  {
   "cell_type": "code",
   "execution_count": 7,
   "metadata": {},
   "outputs": [],
   "source": [
    "files = os.listdir(\"./data/encodings/\")\n",
    "source = [\"./data/encodings/\" + filename for filename in files ]"
   ]
  },
  {
   "cell_type": "code",
   "execution_count": 9,
   "metadata": {
    "tags": []
   },
   "outputs": [
    {
     "output_type": "stream",
     "name": "stderr",
     "text": "Using custom data configuration default\nDownloading and preparing dataset json/default-0dc0d5f9fcdf97b2 (download: Unknown size, generated: Unknown size, post-processed: Unknown size, total: Unknown size) to /home/dmh/.cache/huggingface/datasets/json/default-0dc0d5f9fcdf97b2/0.0.0/70d89ed4db1394f028c651589fcab6d6b28dddcabbe39d3b21b4d41f9a708514...\n121 tables [00:02, 49.03 tables/s]Dataset json downloaded and prepared to /home/dmh/.cache/huggingface/datasets/json/default-0dc0d5f9fcdf97b2/0.0.0/70d89ed4db1394f028c651589fcab6d6b28dddcabbe39d3b21b4d41f9a708514. Subsequent calls will reuse this data.\n"
    }
   ],
   "source": [
    "from datasets import load_dataset\n",
    "dataset = load_dataset('json', data_files=source, field = 'encodings' )"
   ]
  },
  {
   "cell_type": "code",
   "execution_count": 10,
   "metadata": {
    "tags": []
   },
   "outputs": [
    {
     "output_type": "stream",
     "name": "stdout",
     "text": "DatasetDict({\n    train: Dataset({\n        features: ['song'],\n        num_rows: 36452\n    })\n})\n"
    }
   ],
   "source": [
    "print(dataset)"
   ]
  },
  {
   "cell_type": "code",
   "execution_count": 17,
   "metadata": {},
   "outputs": [
    {
     "output_type": "execute_result",
     "data": {
      "text/plain": "\"[Verse 2: Drake, Lil Wayne, Both & All]\\nDrank in my cup holder, hope this shit don't spill\\nPull up in the new edition and that's word to Johnny Gill\\nHow I come up with this shit and all these verses that I kill?\\nI have no imagination, everything I do for real\\nBitch I'm camouflaged, down put your camera phone down\\nIf she got a ass and the girl a fan, it's going down\\nI'ma fuck you like I've been waiting a century for it\\nGive the pussy up and I'll trade you the memory for it\\nIn the bedroom forever, that's what her roommate will tell you\\nMan I just hear this shit and think about what Tunechi will tell you\\nHe might call up Patricia, she 'bout to call up Melissa\\nTell 'em come to the cribbo and do them both, double dribble\\nI'm colder than a hospital, she love the dick that I give her\\nHit her from the front, back, side, twist her like cigarillos\\nI put the gun to the pillow, I don't want blood on my clothes\\nGotta keep that Trukfit fresh, shoutout to all of my hoes\\n(Tunechi) That's just how my OG would sum it up\\nI been working all winter just to fuck the summer up\\nIt's just me and 2 Chainz, but the chain's never tucked though\\nIf you don't like what I'm doing, nigga fuck y'all\\n\\n[Hook: 2 Chainz]\\nThank God for the first nigga to start trapping\\nThank God for the first nigga to start rapping\\nThank God for the first girl to start stripping\\nAnd I'ma have to keep it muh'fuckin' real with 'em\\nI got a problem, with these niggas\\nI got a problem, with these bitches\\nTrigger finger, keep itchin'\\nWell I'll pull it, I'll do it, yeah\\n\\n[Verse 3: 2 Chainz, Lil Wayne & All]\\nWell, if you know like I know, that pussy pop like pyro\\nAnd she know I'm a pothead, that pussy like a pothole\\nI’m colder than a snotnose, man all these hoes is my hoes\\nAnd if she bougie, fuck her once then leave her hanging, dry clothes\\nI just built a cemetery, niggas dying to get in\\nNiggas lying, they pretend, don’t cross that line, it's paper thin\\nHigh as a star, make a wish, I’m a shark, I ate the fish\\nI got no heart, I hate that bitch\\nYou hate that bitch? Well I hate that bitch\\nWill jump a nigga like a chessboard\\nDo a drive by while you riding on your skateboard, uh\\nThey ain't even know it\\nHave Drake sing a song just to get her pussy wet\\nThen I take her to the crib, man, fuck that bitch right on the step\\nPut it in and take it back out, then I back out\\nHair-Hair Weave Killer known to snatch the fucking track out\\nPut me in the ga-game coach, I'm the antidote\\nPull up, kick, throw and take the money, and the dope\\nTrue, 2 Chainz, I'm on a plane, and a boat\\nI am so cold, I need a cover, and a coat\\nKick it at the mall, call it football\\nIf you don't like what I'm doing, nigga, fuck y'all\\n\\n[Outro: Quartet]\\n(Y'all ready? 1, 2, 3)\\nRight now it's me time\\n(A little time for myself y'all) Me time\\n(Oh yeah) Right now it's me time\\n(Don't want no one else now) Me time\\nBitch please don't call my phone (don't call my phone)\\nSaid I wanna be left alone (be left alone)\\nPlease, please don't stop by my home (stop by my home)\\nNo, no cause I feel it's just a matter of time\\n'Til you people make me lose my mind\\nI'm 'bout to leave this world behind, yeah, yeah\\nRight now it's me time\\n(You need to go kick rocks now) Me time\""
     },
     "metadata": {},
     "execution_count": 17
    }
   ],
   "source": [
    "dataset[\"train\"][20][\"song\"]"
   ]
  }
 ],
 "metadata": {
  "kernelspec": {
   "display_name": "Python 3",
   "language": "python",
   "name": "python3"
  },
  "language_info": {
   "codemirror_mode": {
    "name": "ipython",
    "version": 3
   },
   "file_extension": ".py",
   "mimetype": "text/x-python",
   "name": "python",
   "nbconvert_exporter": "python",
   "pygments_lexer": "ipython3",
   "version": "3.7.9"
  }
 },
 "nbformat": 4,
 "nbformat_minor": 4
}