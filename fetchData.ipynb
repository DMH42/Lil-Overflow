{
 "cells": [
  {
   "cell_type": "code",
   "execution_count": 1,
   "metadata": {},
   "outputs": [
    {
     "output_type": "execute_result",
     "data": {
      "text/plain": "True"
     },
     "metadata": {},
     "execution_count": 1
    }
   ],
   "source": [
    "import lyricsgenius\n",
    "import os\n",
    "from dotenv import load_dotenv\n",
    "load_dotenv()"
   ]
  },
  {
   "cell_type": "markdown",
   "metadata": {},
   "source": [
    "## Fetch Data"
   ]
  },
  {
   "cell_type": "code",
   "execution_count": null,
   "metadata": {},
   "outputs": [],
   "source": [
    "os.chdir(\"./data/raw/\")"
   ]
  },
  {
   "cell_type": "code",
   "execution_count": null,
   "metadata": {},
   "outputs": [],
   "source": [
    "offset = 116\n",
    "clientID = os.getenv(\"clientID\")\n",
    "clientAccessToken = os.getenv(\"clientAccessToken\")\n",
    "clientSecret = os.getenv(\"clientSecret\")"
   ]
  },
  {
   "cell_type": "code",
   "execution_count": null,
   "metadata": {},
   "outputs": [],
   "source": [
    "def fetchAndSave(artist, genius):\n",
    "    print(\"search for \" + artist)\n",
    "    artist = genius.search_artist(artist, max_songs=500, per_page= 50, sort=\"popularity\", get_full_info= False)\n",
    "    print(\"saving lyrics\")\n",
    "    artist.save_lyrics()\n"
   ]
  },
  {
   "cell_type": "code",
   "execution_count": null,
   "metadata": {
    "tags": []
   },
   "outputs": [],
   "source": [
    "with open(\"../../topRappers.txt\", \"r\") as fp:\n",
    "    genius = lyricsgenius.Genius(client_access_token = clientAccessToken, verbose=False, timeout = 15)\n",
    "    genius.excluded_terms = [\"(Remix)\", \"(Live)\"]\n",
    "    count = 0\n",
    "    for i, artist in enumerate(fp):\n",
    "        # print(artist)\n",
    "        # print (i)\n",
    "        if i >=  offset :\n",
    "            try:\n",
    "                fetchAndSave(artist, genius)\n",
    "            except TimeoutError:\n",
    "                continue"
   ]
  },
  {
   "cell_type": "markdown",
   "metadata": {},
   "source": [
    "## Clean Data"
   ]
  },
  {
   "cell_type": "code",
   "execution_count": 1,
   "metadata": {},
   "outputs": [],
   "source": [
    "import json\n",
    "files = os.listdir(\"./data/raw/\")"
   ]
  },
  {
   "cell_type": "code",
   "execution_count": 21,
   "metadata": {},
   "outputs": [],
   "source": [
    "ignorelist = [\"Lyrics will be available\" , \"Cover Art\", \"Lyrics for this song have yet to be released\", \"Lyrics will be put on this page once the song is released\",\n",
    "\"Chance the Rapper Logo\", \"Someone add the lyrics\", ]"
   ]
  },
  {
   "cell_type": "code",
   "execution_count": 22,
   "metadata": {
    "tags": []
   },
   "outputs": [],
   "source": [
    "for filename in files:\n",
    "    # temp = \"\"\n",
    "    # filename = \"Lyrics_Dax.json\"\n",
    "    with open(f'./data/raw/{filename}') as f:\n",
    "        data = json.load(f)\n",
    "        song_obj = {}\n",
    "        artist = data[\"name\"]\n",
    "        song_obj[\"artist\"] = artist\n",
    "\n",
    "        song_obj[\"songs\"] = []\n",
    "        for song in data['songs']:\n",
    "            lyrics = song['lyrics']\n",
    "            if \"My Krazy Life Tour\" in song[\"title\"]:\n",
    "                continue\n",
    "            if any(ignore in lyrics for ignore in ignorelist):\n",
    "                continue\n",
    "            if len(lyrics)<20:\n",
    "                if \"Soon\" in lyrics:\n",
    "                    continue\n",
    "            # lyrics.decode(\"utf-8\")\n",
    "            # print(lyrics)\n",
    "            # temp = lyrics\n",
    "            song_obj[\"songs\"].append(song['lyrics'])\n",
    "        with open(f'./data/cleaned/{artist}.json', 'w', encoding='utf-8') as outfile:\n",
    "            json.dump(song_obj, outfile)"
   ]
  },
  {
   "cell_type": "code",
   "execution_count": 7,
   "metadata": {},
   "outputs": [],
   "source": [
    "def encodeString(string, tokenizer, maxSize):\n",
    "    encoding = tokenizer.encode(string)\n",
    "    print(\"*******************************\")\n",
    "    # print(string)\n",
    "\n",
    "    if len(encoding) > maxSize:\n",
    "        splits = song.split(\"\\n\\n\")\n",
    "        print(len(splits))\n",
    "        middle = math.floor((len(splits) - 1) / 2)\n",
    "        first = \"\"\n",
    "        second = \"\"\n",
    "        for i in range (middle):\n",
    "            first += splits[i] + \"\\n\\n\"\n",
    "        for i in range(middle, len(splits)):\n",
    "            second += splits[i] + \"\\n\\n\"\n",
    "        res1 = encodeString(first, tokenizer, maxSize)\n",
    "        res2 = encodeString(second, tokenizer, maxSize)\n",
    "        res = []\n",
    "        for enc in res1:\n",
    "            res.append(enc)\n",
    "        for enc in res2:\n",
    "            res.append(enc)\n",
    "        return res\n",
    "    else:\n",
    "        return [encoding]"
   ]
  },
  {
   "cell_type": "code",
   "execution_count": 9,
   "metadata": {
    "tags": [
     "outputPrepend"
    ]
   },
   "outputs": [
    {
     "output_type": "stream",
     "name": "stdout",
     "text": "ge]\nEvery day that I'm alive, I’ma ride with the stick\nI'd rather be broke in jail than be dead and rich\nTold my brothers take my breath if I turn to a snitch\nBut I'm 21 4L, ain’t no way I'ma switch\n\n[Interlude]\nBreak it down, I break it down\nI break it down, I break it down\nI break it down, I break it down\nI break it down, I break it down\n\n\n[Verse 2: 21 Savage]\nPenitentiary chances just to make a couple bucks\nMy heart so cold I could put it in my cup\nGang vs. the world, me and my dawg, it was us\nThen you went and wrote a statement, and that really fucked me up\nMy brother lost his life and it turned me to a beast\nMy brother got life and it turned me to the streets\nI been through the storm and it turned me to a G\nBut the other side was sunny, I get paid to rap on beats\n\n[Chorus: 21 Savage]\nHow much money you got? (A lot)\nHow many problems you got? (A lot)\nHow many people done doubted you? (A lot)\nLeft you out to rot? (A lot)\nHow many pray that you flop? (A lot)\nHow many lawyers you got? (A lot)\nHow many times you got shot? (A lot)\nHow many niggas you shot? (A lot)\nHow many times did you ride? (A lot)\nHow many niggas done died? (A lot)\nHow many times did you cheat? (A lot)\nHow many times did you lie? (A lot)\nHow many times did she leave? (A lot)\nHow many times did she cry? (A lot)\nHow many chances she done gave you?\nFuck around with these thots (A lot)\n\n[Interlude: J. Cole]\nBreak it on down, I break it on down\nI break it on down, I break it on down\nYeah, I just came from the A\nI drove back home, six-hour drive, six-and-a-half\nBefore I left I stopped by to see my nigga 21 in the studio\nHe had two of his kids with him right in the studio, that's when I knew\nYou a stand up nigga, I love seein' shit like that\n\n[Verse 3: J. Cole]\nQuestion\nHow many faking they streams? (A lot)\nGetting they plays from machines? (A lot)\nI can see behind the smoke and mirrors\nNiggas ain't really big as they seem (Hmm)\nI never say anything (Nah), everybody got they thing (True)\nSome niggas make millions, other niggas make memes (Hmm)\nI'm on a money routine\nI don't want smoke, I want cream\nI don't want no more comparisons\nThis is a marathon and I’m aware\nI been playing it back from a lack of promotions\nI never was one for the bragging and boasting\nI guess I was hoping the music would speak for itself, but the people want everything else\nOkay, no problem, I’ll show up on everyone album\nYou know what the outcome will be\nI'm batting a thousand\nIt’s got to the point that these rappers don't even like rappin' with me\nFuck it 'cause my nigga 21 Savage just hit me\nAnd told me he saved me a spot on a new record he got\nHe call it \"a lot,\" I open my book and I jot\nPray for Tekashi, they want him to rot\nI picture him inside a cell on a cot\n’Flectin' on how he made it to the top\nWondering if it was worth it or not\nI pray for Markelle 'cause they fucked up his shot\nJust want you to know that you got it, my nigga\nThough I never met you, I know that you special\nAnd that the Lord blessed you, don't doubt it, my nigga\nDennis Smith, Jr., stay solid, my nigga\nI'm on a tangent, not how I planned it\nI had some fans that hopped and abandoned ship\nWhen they thought that I wasn't gone pan out, I got a plan\nThey say that success is the greatest revenge, tell all your friends\nCole on a mission, cementin' the spot as the greatest that did it\nBefore it all ends, nigga\n\n[Chorus: 21 Savage]\nHow much money you got? (A lot)\nHow many problems you got? (A lot)\nHow many people done doubted you? (A lot)\nLeft you out to rot? (A lot)\nHow many pray that you flop? (A lot)\nHow many lawyers you got? (A lot)\nHow many times you got shot? (A lot)\nHow many niggas you shot? (A lot)\nHow many times did you ride? (A lot)\nHow many niggas done died? (A lot)\nHow many times did you cheat? (A lot)\nHow many times did you lie? (A lot)\nHow many times did she leave? (A lot)\nHow many times did she cry? (A lot)\nHow many chances she done gave you?\nFuck around with these thots (A lot)\n\n[Outro]\nBreak it on down, I break it on down\nI break it on down, I break it on down\nI break it down, I break it down\nI break it down, I break it down\nI break it on down, I break it down\nI break it down, I break it down\nI break it down, I break it down\nI break it down, I break it down, I br-\n\n\n[Intro: 21 Savage]\nI love you\nTurn my headphone down a little bit, yeah\nFor so many reasons\nYeah, yeah, yeah, yeah, yeah, yeah (I do), yeah, yeah yeah yeah\nYeah, yeah, ah, ah, whoa, whoa, whoa, yeah\n\n[Pre-Chorus: 21 Savage]\nHow much money you got? (Straight up)\nHow much money you got? (Straight up)\nHow much money you got? (Straight up)\nHow much money you got? (A lot)\n\n[Chorus: 21 Savage]\nHow much money you got? (A lot)\nHow many problems you got? (A lot)\nHow many people done doubted you? (A lot)\nLeft you out to rot? (A lot)\nHow many pray that you flop? (A lot)\nHow many lawyers you got? (A lot)\nHow many times you got shot? (A lot)\nHow many niggas you shot? (A lot)\nHow many times did you ride? (A lot)\nHow many niggas done died? (A lot)\nHow many times did you cheat? (A lot)\nHow many times did you lie? (A lot)\nHow many times did she leave? (A lot)\nHow many times did she cry? (A lot)\nHow many chances she done gave you fuckin around with these thots? (A lot)\n\n[Verse 1: 21 Savage]\nEvery day that I'm alive, I’ma ride with the stick\nI'd rather be broke in jail than be dead and rich\nTold my brothers take my breath if I turn to a snitch\nBut I'm 21 4L, ain’t no way I'ma switch\n\n[Interlude]\nBreak it down, I break it down\nI break it down, I break it down\nI break it down, I break it down\nI break it down, I break it down\n\n\n[Verse 2: 21 Savage]\nPenitentiary chances just to make a couple bucks\nMy heart so cold I could put it in my cup\nGang vs. the world, me and my dawg, it was us\nThen you went and wrote a statement, and that really fucked me up\nMy brother lost his life and it turned me to a beast\nMy brother got life and it turned me to the streets\nI been through the storm and it turned me to a G\nBut the other side was sunny, I get paid to rap on beats\n\n[Chorus: 21 Savage]\nHow much money you got? (A lot)\nHow many problems you got? (A lot)\nHow many people done doubted you? (A lot)\nLeft you out to rot? (A lot)\nHow many pray that you flop? (A lot)\nHow many lawyers you got? (A lot)\nHow many times you got shot? (A lot)\nHow many niggas you shot? (A lot)\nHow many times did you ride? (A lot)\nHow many niggas done died? (A lot)\nHow many times did you cheat? (A lot)\nHow many times did you lie? (A lot)\nHow many times did she leave? (A lot)\nHow many times did she cry? (A lot)\nHow many chances she done gave you?\nFuck around with these thots (A lot)\n\n[Interlude: J. Cole]\nBreak it on down, I break it on down\nI break it on down, I break it on down\nYeah, I just came from the A\nI drove back home, six-hour drive, six-and-a-half\nBefore I left I stopped by to see my nigga 21 in the studio\nHe had two of his kids with him right in the studio, that's when I knew\nYou a stand up nigga, I love seein' shit like that\n\n[Verse 3: J. Cole]\nQuestion\nHow many faking they streams? (A lot)\nGetting they plays from machines? (A lot)\nI can see behind the smoke and mirrors\nNiggas ain't really big as they seem (Hmm)\nI never say anything (Nah), everybody got they thing (True)\nSome niggas make millions, other niggas make memes (Hmm)\nI'm on a money routine\nI don't want smoke, I want cream\nI don't want no more comparisons\nThis is a marathon and I’m aware\nI been playing it back from a lack of promotions\nI never was one for the bragging and boasting\nI guess I was hoping the music would speak for itself, but the people want everything else\nOkay, no problem, I’ll show up on everyone album\nYou know what the outcome will be\nI'm batting a thousand\nIt’s got to the point that these rappers don't even like rappin' with me\nFuck it 'cause my nigga 21 Savage just hit me\nAnd told me he saved me a spot on a new record he got\nHe call it \"a lot,\" I open my book and I jot\nPray for Tekashi, they want him to rot\nI picture him inside a cell on a cot\n’Flectin' on how he made it to the top\nWondering if it was worth it or not\nI pray for Markelle 'cause they fucked up his shot\nJust want you to know that you got it, my nigga\nThough I never met you, I know that you special\nAnd that the Lord blessed you, don't doubt it, my nigga\nDennis Smith, Jr., stay solid, my nigga\nI'm on a tangent, not how I planned it\nI had some fans that hopped and abandoned ship\nWhen they thought that I wasn't gone pan out, I got a plan\nThey say that success is the greatest revenge, tell all your friends\nCole on a mission, cementin' the spot as the greatest that did it\nBefore it all ends, nigga\n\n[Chorus: 21 Savage]\nHow much money you got? (A lot)\nHow many problems you got? (A lot)\nHow many people done doubted you? (A lot)\nLeft you out to rot? (A lot)\nHow many pray that you flop? (A lot)\nHow many lawyers you got? (A lot)\nHow many times you got shot? (A lot)\nHow many niggas you shot? (A lot)\nHow many times did you ride? (A lot)\nHow many niggas done died? (A lot)\nHow many times did you cheat? (A lot)\nHow many times did you lie? (A lot)\nHow many times did she leave? (A lot)\nHow many times did she cry? (A lot)\nHow many chances she done gave you?\nFuck around with these thots (A lot)\n\n[Outro]\nBreak it on down, I break it on down\nI break it on down, I break it on down\nI break it down, I break it down\nI break it down, I break it down\nI break it on down, I break it down\nI break it down, I break it down\nI break it down, I break it down\nI break it down, I break it down, I br-\n\n\n[Intro: 21 Savage]\nI love you\nTurn my headphone down a little bit, yeah\nFor so many reasons\nYeah, yeah, yeah, yeah, yeah, yeah (I do), yeah, yeah yeah yeah\nYeah, yeah, ah, ah, whoa, whoa, whoa, yeah\n\n[Pre-Chorus: 21 Savage]\nHow much money you got? (Straight up)\nHow much money you got? (Straight up)\nHow much money you got? (Straight up)\nHow much money you got? (A lot)\n\n[Chorus: 21 Savage]\nHow much money you got? (A lot)\nHow many problems you got? (A lot)\nHow many people done doubted you? (A lot)\nLeft you out to rot? (A lot)\nHow many pray that you flop? (A lot)\nHow many lawyers you got? (A lot)\nHow many times you got shot? (A lot)\nHow many niggas you shot? (A lot)\nHow many times did you ride? (A lot)\nHow many niggas done died? (A lot)\nHow many times did you cheat? (A lot)\nHow many times did you lie? (A lot)\nHow many times did she leave? (A lot)\nHow many times did she cry? (A lot)\nHow many chances she done gave you fuckin around with these thots? (A lot)\n\n[Verse 1: 21 Savage]\nEvery day that I'm alive, I’ma ride with the stick\nI'd rather be broke in jail than be dead and rich\nTold my brothers take my breath if I turn to a snitch\nBut I'm 21 4L, ain’t no way I'ma switch\n\n[Interlude]\nBreak it down, I break it down\nI break it down, I break it down\nI break it down, I break it down\nI break it down, I break it down\n\n\n[Verse 2: 21 Savage]\nPenitentiary chances just to make a couple bucks\nMy heart so cold I could put it in my cup\nGang vs. the world, me and my dawg, it was us\nThen you went and wrote a statement, and that really fucked me up\nMy brother lost his life and it turned me to a beast\nMy brother got life and it turned me to the streets\nI been through the storm and it turned me to a G\nBut the other side was sunny, I get paid to rap on beats\n\n[Chorus: 21 Savage]\nHow much money you got? (A lot)\nHow many problems you got? (A lot)\nHow many people done doubted you? (A lot)\nLeft you out to rot? (A lot)\nHow many pray that you flop? (A lot)\nHow many lawyers you got? (A lot)\nHow many times you got shot? (A lot)\nHow many niggas you shot? (A lot)\nHow many times did you ride? (A lot)\nHow many niggas done died? (A lot)\nHow many times did you cheat? (A lot)\nHow many times did you lie? (A lot)\nHow many times did she leave? (A lot)\nHow many times did she cry? (A lot)\nHow many chances she done gave you?\nFuck around with these thots (A lot)\n\n[Interlude: J. Cole]\nBreak it on down, I break it on down\nI break it on down, I break it on down\nYeah, I just came from the A\nI drove back home, six-hour drive, six-and-a-half\nBefore I left I stopped by to see my nigga 21 in the studio\nHe had two of his kids with him right in the studio, that's when I knew\nYou a stand up nigga, I love seein' shit like that\n\n[Verse 3: J. Cole]\nQuestion\nHow many faking they streams? (A lot)\nGetting they plays from machines? (A lot)\nI can see behind the smoke and mirrors\nNiggas ain't really big as they seem (Hmm)\nI never say anything (Nah), everybody got they thing (True)\nSome niggas make millions, other niggas make memes (Hmm)\nI'm on a money routine\nI don't want smoke, I want cream\nI don't want no more comparisons\nThis is a marathon and I’m aware\nI been playing it back from a lack of promotions\nI never was one for the bragging and boasting\nI guess I was hoping the music would speak for itself, but the people want everything else\nOkay, no problem, I’ll show up on everyone album\nYou know what the outcome will be\nI'm batting a thousand\nIt’s got to the point that these rappers don't even like rappin' with me\nFuck it 'cause my nigga 21 Savage just hit me\nAnd told me he saved me a spot on a new record he got\nHe call it \"a lot,\" I open my book and I jot\nPray for Tekashi, they want him to rot\nI picture him inside a cell on a cot\n’Flectin' on how he made it to the top\nWondering if it was worth it or not\nI pray for Markelle 'cause they fucked up his shot\nJust want you to know that you got it, my nigga\nThough I never met you, I know that you special\nAnd that the Lord blessed you, don't doubt it, my nigga\nDennis Smith, Jr., stay solid, my nigga\nI'm on a tangent, not how I planned it\nI had some fans that hopped and abandoned ship\nWhen they thought that I wasn't gone pan out, I got a plan\nThey say that success is the greatest revenge, tell all your friends\nCole on a mission, cementin' the spot as the greatest that did it\nBefore it all ends, nigga\n\n[Chorus: 21 Savage]\nHow much money you got? (A lot)\nHow many problems you got? (A lot)\nHow many people done doubted you? (A lot)\nLeft you out to rot? (A lot)\nHow many pray that you flop? (A lot)\nHow many lawyers you got? (A lot)\nHow many times you got shot? (A lot)\nHow many niggas you shot? (A lot)\nHow many times did you ride? (A lot)\nHow many niggas done died? (A lot)\nHow many times did you cheat? (A lot)\nHow many times did you lie? (A lot)\nHow many times did she leave? (A lot)\nHow many times did she cry? (A lot)\nHow many chances she done gave you?\nFuck around with these thots (A lot)\n\n[Outro]\nBreak it on down, I break it on down\nI break it on down, I break it on down\nI break it down, I break it down\nI break it down, I break it down\nI break it on down, I break it down\nI break it down, I break it down\nI break it down, I break it down\nI break it down, I break it down, I br-\n\n\n[Intro: 21 Savage]\nI love you\nTurn my headphone down a little bit, yeah\nFor so many reasons\nYeah, yeah, yeah, yeah, yeah, yeah (I do), yeah, yeah yeah yeah\nYeah, yeah, ah, ah, whoa, whoa, whoa, yeah\n\n[Pre-Chorus: 21 Savage]\nHow much money you got? (Straight up)\nHow much money you got? (Straight up)\nHow much money you got? (Straight up)\nHow much money you got? (A lot)\n\n[Chorus: 21 Savage]\nHow much money you got? (A lot)\nHow many problems you got? (A lot)\nHow many people done doubted you? (A lot)\nLeft you out to rot? (A lot)\nHow many pray that you flop? (A lot)\nHow many lawyers you got? (A lot)\nHow many times you got shot? (A lot)\nHow many niggas you shot? (A lot)\nHow many times did you ride? (A lot)\nHow many niggas done died? (A lot)\nHow many times did you cheat? (A lot)\nHow many times did you lie? (A lot)\nHow many times did she leave? (A lot)\nHow many times did she cry? (A lot)\nHow many chances she done gave you fuckin around with these thots? (A lot)\n\n[Verse 1: 21 Savage]\nEvery day that I'm alive, I’ma ride with the stick\nI'd rather be broke in jail than be dead and rich\nTold my brothers take my breath if I turn to a snitch\nBut I'm 21 4L, ain’t no way I'ma switch\n\n[Interlude]\nBreak it down, I break it down\nI break it down, I break it down\nI break it down, I break it down\nI break it down, I break it down\n\n\n[Verse 2: 21 Savage]\nPenitentiary chances just to make a couple bucks\nMy heart so cold I could put it in my cup\nGang vs. the world, me and my dawg, it was us\nThen you went and wrote a statement, and that really fucked me up\nMy brother lost his life and it turned me to a beast\nMy brother got life and it turned me to the streets\nI been through the storm and it turned me to a G\nBut the other side was sunny, I get paid to rap on beats\n\n[Chorus: 21 Savage]\nHow much money you got? (A lot)\nHow many problems you got? (A lot)\nHow many people done doubted you? (A lot)\nLeft you out to rot? (A lot)\nHow many pray that you flop? (A lot)\nHow many lawyers you got? (A lot)\nHow many times you got shot? (A lot)\nHow many niggas you shot? (A lot)\nHow many times did you ride? (A lot)\nHow many niggas done died? (A lot)\nHow many times did you cheat? (A lot)\nHow many times did you lie? (A lot)\nHow many times did she leave? (A lot)\nHow many times did she cry? (A lot)\nHow many chances she done gave you?\nFuck around with these thots (A lot)\n\n[Interlude: J. Cole]\nBreak it on down, I break it on down\nI break it on down, I break it on down\nYeah, I just came from the A\nI drove back home, six-hour drive, six-and-a-half\nBefore I left I stopped by to see my nigga 21 in the studio\nHe had two of his kids with him right in the studio, that's when I knew\nYou a stand up nigga, I love seein' shit like that\n\n[Verse 3: J. Cole]\nQuestion\nHow many faking they streams? (A lot)\nGetting they plays from machines? (A lot)\nI can see behind the smoke and mirrors\nNiggas ain't really big as they seem (Hmm)\nI never say anything (Nah), everybody got they thing (True)\nSome niggas make millions, other niggas make memes (Hmm)\nI'm on a money routine\nI don't want smoke, I want cream\nI don't want no more comparisons\nThis is a marathon and I’m aware\nI been playing it back from a lack of promotions\nI never was one for the bragging and boasting\nI guess I was hoping the music would speak for itself, but the people want everything else\nOkay, no problem, I’ll show up on everyone album\nYou know what the outcome will be\nI'm batting a thousand\nIt’s got to the point that these rappers don't even like rappin' with me\nFuck it 'cause my nigga 21 Savage just hit me\nAnd told me he saved me a spot on a new record he got\nHe call it \"a lot,\" I open my book and I jot\nPray for Tekashi, they want him to rot\nI picture him inside a cell on a cot\n’Flectin' on how he made it to the top\nWondering if it was worth it or not\nI pray for Markelle 'cause they fucked up his shot\nJust want you to know that you got it, my nigga\nThough I never met you, I know that you special\nAnd that the Lord blessed you, don't doubt it, my nigga\nDennis Smith, Jr., stay solid, my nigga\nI'm on a tangent, not how I planned it\nI had some fans that hopped and abandoned ship\nWhen they thought that I wasn't gone pan out, I got a plan\nThey say that success is the greatest revenge, tell all your friends\nCole on a mission, cementin' the spot as the greatest that did it\nBefore it all ends, nigga\n\n[Chorus: 21 Savage]\nHow much money you got? (A lot)\nHow many problems you got? (A lot)\nHow many people done doubted you? (A lot)\nLeft you out to rot? (A lot)\nHow many pray that you flop? (A lot)\nHow many lawyers you got? (A lot)\nHow many times you got shot? (A lot)\nHow many niggas you shot? (A lot)\nHow many times did you ride? (A lot)\nHow many niggas done died? (A lot)\nHow many times did you cheat? (A lot)\nHow many times did you lie? (A lot)\nHow many times did she leave? (A lot)\nHow many times did she cry? (A lot)\nHow many chances she done gave you?\nFuck around with these thots (A lot)\n\n[Outro]\nBreak it on down, I break it on down\nI break it on down, I break it on down\nI break it down, I break it down\nI break it down, I break it down\nI break it on down, I break it down\nI break it down, I break it down\nI break it down, I break it down\nI break it down, I break it down, I br-\n\n\n"
    },
    {
     "output_type": "error",
     "ename": "RecursionError",
     "evalue": "maximum recursion depth exceeded in comparison",
     "traceback": [
      "\u001b[0;31m---------------------------------------------------------------------------\u001b[0m",
      "\u001b[0;31mRecursionError\u001b[0m                            Traceback (most recent call last)",
      "\u001b[0;32m<ipython-input-9-effb1275df36>\u001b[0m in \u001b[0;36m<module>\u001b[0;34m\u001b[0m\n\u001b[1;32m     21\u001b[0m             \u001b[0;32mif\u001b[0m \u001b[0mlen\u001b[0m\u001b[0;34m(\u001b[0m\u001b[0msong\u001b[0m\u001b[0;34m)\u001b[0m \u001b[0;34m>\u001b[0m\u001b[0;36m5000\u001b[0m\u001b[0;34m:\u001b[0m\u001b[0;34m\u001b[0m\u001b[0;34m\u001b[0m\u001b[0m\n\u001b[1;32m     22\u001b[0m                 \u001b[0;31m# print (song)\u001b[0m\u001b[0;34m\u001b[0m\u001b[0;34m\u001b[0m\u001b[0;34m\u001b[0m\u001b[0m\n\u001b[0;32m---> 23\u001b[0;31m                 \u001b[0mencodings\u001b[0m \u001b[0;34m=\u001b[0m \u001b[0mencodeString\u001b[0m\u001b[0;34m(\u001b[0m\u001b[0msong\u001b[0m\u001b[0;34m,\u001b[0m \u001b[0mtokenizer\u001b[0m\u001b[0;34m,\u001b[0m \u001b[0;36m1023\u001b[0m\u001b[0;34m)\u001b[0m\u001b[0;34m\u001b[0m\u001b[0;34m\u001b[0m\u001b[0m\n\u001b[0m\u001b[1;32m     24\u001b[0m                 \u001b[0;32mfor\u001b[0m \u001b[0menc\u001b[0m \u001b[0;32min\u001b[0m \u001b[0mencodings\u001b[0m\u001b[0;34m:\u001b[0m\u001b[0;34m\u001b[0m\u001b[0;34m\u001b[0m\u001b[0m\n\u001b[1;32m     25\u001b[0m                     \u001b[0mprint\u001b[0m \u001b[0;34m(\u001b[0m\u001b[0menc\u001b[0m\u001b[0;34m)\u001b[0m\u001b[0;34m\u001b[0m\u001b[0;34m\u001b[0m\u001b[0m\n",
      "\u001b[0;32m<ipython-input-7-20493ba8d550>\u001b[0m in \u001b[0;36mencodeString\u001b[0;34m(string, tokenizer, maxSize)\u001b[0m\n\u001b[1;32m     12\u001b[0m             \u001b[0msecond\u001b[0m \u001b[0;34m+=\u001b[0m \u001b[0msplits\u001b[0m\u001b[0;34m[\u001b[0m\u001b[0mi\u001b[0m\u001b[0;34m]\u001b[0m \u001b[0;34m+\u001b[0m \u001b[0;34m\"\\n\\n\"\u001b[0m\u001b[0;34m\u001b[0m\u001b[0;34m\u001b[0m\u001b[0m\n\u001b[1;32m     13\u001b[0m         \u001b[0mres1\u001b[0m \u001b[0;34m=\u001b[0m \u001b[0mencodeString\u001b[0m\u001b[0;34m(\u001b[0m\u001b[0mfirst\u001b[0m\u001b[0;34m,\u001b[0m \u001b[0mtokenizer\u001b[0m\u001b[0;34m,\u001b[0m \u001b[0mmaxSize\u001b[0m\u001b[0;34m)\u001b[0m\u001b[0;34m\u001b[0m\u001b[0;34m\u001b[0m\u001b[0m\n\u001b[0;32m---> 14\u001b[0;31m         \u001b[0mres2\u001b[0m \u001b[0;34m=\u001b[0m \u001b[0mencodeString\u001b[0m\u001b[0;34m(\u001b[0m\u001b[0msecond\u001b[0m\u001b[0;34m,\u001b[0m \u001b[0mtokenizer\u001b[0m\u001b[0;34m,\u001b[0m \u001b[0mmaxSize\u001b[0m\u001b[0;34m)\u001b[0m\u001b[0;34m\u001b[0m\u001b[0;34m\u001b[0m\u001b[0m\n\u001b[0m\u001b[1;32m     15\u001b[0m         \u001b[0mres\u001b[0m \u001b[0;34m=\u001b[0m \u001b[0;34m[\u001b[0m\u001b[0;34m]\u001b[0m\u001b[0;34m\u001b[0m\u001b[0;34m\u001b[0m\u001b[0m\n\u001b[1;32m     16\u001b[0m         \u001b[0;32mfor\u001b[0m \u001b[0menc\u001b[0m \u001b[0;32min\u001b[0m \u001b[0mres1\u001b[0m\u001b[0;34m:\u001b[0m\u001b[0;34m\u001b[0m\u001b[0;34m\u001b[0m\u001b[0m\n",
      "... last 1 frames repeated, from the frame below ...\n",
      "\u001b[0;32m<ipython-input-7-20493ba8d550>\u001b[0m in \u001b[0;36mencodeString\u001b[0;34m(string, tokenizer, maxSize)\u001b[0m\n\u001b[1;32m     12\u001b[0m             \u001b[0msecond\u001b[0m \u001b[0;34m+=\u001b[0m \u001b[0msplits\u001b[0m\u001b[0;34m[\u001b[0m\u001b[0mi\u001b[0m\u001b[0;34m]\u001b[0m \u001b[0;34m+\u001b[0m \u001b[0;34m\"\\n\\n\"\u001b[0m\u001b[0;34m\u001b[0m\u001b[0;34m\u001b[0m\u001b[0m\n\u001b[1;32m     13\u001b[0m         \u001b[0mres1\u001b[0m \u001b[0;34m=\u001b[0m \u001b[0mencodeString\u001b[0m\u001b[0;34m(\u001b[0m\u001b[0mfirst\u001b[0m\u001b[0;34m,\u001b[0m \u001b[0mtokenizer\u001b[0m\u001b[0;34m,\u001b[0m \u001b[0mmaxSize\u001b[0m\u001b[0;34m)\u001b[0m\u001b[0;34m\u001b[0m\u001b[0;34m\u001b[0m\u001b[0m\n\u001b[0;32m---> 14\u001b[0;31m         \u001b[0mres2\u001b[0m \u001b[0;34m=\u001b[0m \u001b[0mencodeString\u001b[0m\u001b[0;34m(\u001b[0m\u001b[0msecond\u001b[0m\u001b[0;34m,\u001b[0m \u001b[0mtokenizer\u001b[0m\u001b[0;34m,\u001b[0m \u001b[0mmaxSize\u001b[0m\u001b[0;34m)\u001b[0m\u001b[0;34m\u001b[0m\u001b[0;34m\u001b[0m\u001b[0m\n\u001b[0m\u001b[1;32m     15\u001b[0m         \u001b[0mres\u001b[0m \u001b[0;34m=\u001b[0m \u001b[0;34m[\u001b[0m\u001b[0;34m]\u001b[0m\u001b[0;34m\u001b[0m\u001b[0;34m\u001b[0m\u001b[0m\n\u001b[1;32m     16\u001b[0m         \u001b[0;32mfor\u001b[0m \u001b[0menc\u001b[0m \u001b[0;32min\u001b[0m \u001b[0mres1\u001b[0m\u001b[0;34m:\u001b[0m\u001b[0;34m\u001b[0m\u001b[0;34m\u001b[0m\u001b[0m\n",
      "\u001b[0;31mRecursionError\u001b[0m: maximum recursion depth exceeded in comparison"
     ]
    }
   ],
   "source": [
    "import re\n",
    "from transformers import GPT2TokenizerFast\n",
    "tokenizer = GPT2TokenizerFast.from_pretrained(\"gpt2\")\n",
    "import math\n",
    "\n",
    "files = os.listdir(\"./data/cleaned/\")\n",
    "chorusCount = 0\n",
    "verseCount = 0\n",
    "songCount = 0\n",
    "# chorusRE = re.compile('\\[.*chorus.*\\]|(.*chorus.*)|Chorus.*:|{.*chorus.*}|\\[.*interlude\\]|\\[Chorus\\]|\\[Intro\\]|\\[hook.*\\]|\\[outro.*\\]|\\[...*\\]', re.IGNORECASE)\n",
    "chorusRE = re.compile('(.*chorus.*)|Chorus.*:|{.*chorus.*}|\\[...*\\]', re.IGNORECASE)\n",
    "\n",
    "verseRE = re.compile(\"\\[.*verse.*\\]|(.*verse.*)|verse*:|{.*verse.*}\", re.IGNORECASE)\n",
    "# print(\"reset\")\n",
    "longerCount = 0\n",
    "for filename in files:\n",
    "    with open(f'./data/cleaned/{filename}', encoding = \"utf-8\") as f:\n",
    "        data = json.load(f)\n",
    "        songs = data[\"songs\"]\n",
    "        for song in songs:\n",
    "            if len(song) >5000:\n",
    "                # print (song)\n",
    "                encodings = encodeString(song, tokenizer, 1023)\n",
    "                for enc in encodings:\n",
    "                    print (enc)\n",
    "                break\n",
    "\n",
    "\n",
    "\n",
    "            # # print(song)\n",
    "            # choir = chorusRE.findall(song)\n",
    "            # verses = verseRE.findall(song)\n",
    "\n",
    "            # if len(choir) > 0 and len(verses) >0:\n",
    "            #     chorusCount += 1\n",
    "            #     verseCount +=1\n",
    "            #     # chorus += len(choir)\n",
    "            # elif len(verses) >0:\n",
    "            #     verseCount +=1\n",
    "            # elif len(choir)>0:\n",
    "            #     chorusCount += 1\n",
    "            # else:\n",
    "            #     if len(song) < 500:\n",
    "            #         print(song)\n",
    "            #     # print(len(song))\n",
    "            #     break\n",
    "            # songCount +=1\n",
    "# print(chorusCount)\n",
    "# print(songCount)\n",
    "# print(verseCount)\n",
    "\n",
    "print(longerCount)"
   ]
  },
  {
   "cell_type": "code",
   "execution_count": null,
   "metadata": {},
   "outputs": [],
   "source": []
  }
 ],
 "metadata": {
  "kernelspec": {
   "display_name": "Python 3",
   "language": "python",
   "name": "python3"
  },
  "language_info": {
   "codemirror_mode": {
    "name": "ipython",
    "version": 3
   },
   "file_extension": ".py",
   "mimetype": "text/x-python",
   "name": "python",
   "nbconvert_exporter": "python",
   "pygments_lexer": "ipython3",
   "version": "3.7.9"
  }
 },
 "nbformat": 4,
 "nbformat_minor": 4
}